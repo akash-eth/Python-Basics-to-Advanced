{
 "cells": [
  {
   "cell_type": "code",
   "execution_count": 1,
   "metadata": {},
   "outputs": [
    {
     "name": "stdout",
     "output_type": "stream",
     "text": [
      "Before Loop\n",
      "ello world Times 1.\n",
      "ello world Times 2.\n",
      "ello world Times 3.\n",
      "ello world Times 4.\n",
      "ello world Times 5.\n",
      "ello world Times 6.\n",
      "ello world Times 7.\n",
      "ello world Times 8.\n",
      "ello world Times 9.\n",
      "ello world Times 10.\n",
      "After Loop\n"
     ]
    }
   ],
   "source": [
    "c = 1\n",
    "print(\"Before Loop\")\n",
    "while c <= 10 : \n",
    "    print(f\"ello world Times {c}.\")\n",
    "    c = c + 1\n",
    "print(\"After Loop\")"
   ]
  },
  {
   "cell_type": "code",
   "execution_count": 2,
   "metadata": {},
   "outputs": [
    {
     "name": "stdout",
     "output_type": "stream",
     "text": [
      "Enter a number : 34\n",
      "34*1=34\n",
      "34*2=68\n",
      "34*3=102\n",
      "34*4=136\n",
      "34*5=170\n",
      "34*6=204\n",
      "34*7=238\n",
      "34*8=272\n",
      "34*9=306\n",
      "34*10=340\n"
     ]
    }
   ],
   "source": [
    "num = int(input(\"Enter a number : \"))\n",
    "c = 1\n",
    "while c <= 10 : \n",
    "    print(f\"{num}*{c}={num*c}\")\n",
    "    c = c + 1"
   ]
  },
  {
   "cell_type": "code",
   "execution_count": 4,
   "metadata": {},
   "outputs": [
    {
     "name": "stdout",
     "output_type": "stream",
     "text": [
      "Hello world\n",
      "Hello world\n",
      "Hello world\n",
      "Hello world\n",
      "Hello world\n",
      "Can i work here ? \n"
     ]
    }
   ],
   "source": [
    "c = 2 \n",
    "while c <= 10 : \n",
    "    print(\"Hello world\")\n",
    "    c += 2\n",
    "else : \n",
    "    print(\"Can i work here ? \")"
   ]
  },
  {
   "cell_type": "code",
   "execution_count": null,
   "metadata": {},
   "outputs": [],
   "source": []
  }
 ],
 "metadata": {
  "kernelspec": {
   "display_name": "Python 3",
   "language": "python",
   "name": "python3"
  },
  "language_info": {
   "codemirror_mode": {
    "name": "ipython",
    "version": 3
   },
   "file_extension": ".py",
   "mimetype": "text/x-python",
   "name": "python",
   "nbconvert_exporter": "python",
   "pygments_lexer": "ipython3",
   "version": "3.7.3"
  }
 },
 "nbformat": 4,
 "nbformat_minor": 4
}
