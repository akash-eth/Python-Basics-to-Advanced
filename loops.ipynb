{
 "cells": [
  {
   "cell_type": "code",
   "execution_count": 1,
   "metadata": {},
   "outputs": [
    {
     "name": "stdout",
     "output_type": "stream",
     "text": [
      "Before Loop\n",
      "ello world Times 1.\n",
      "ello world Times 2.\n",
      "ello world Times 3.\n",
      "ello world Times 4.\n",
      "ello world Times 5.\n",
      "ello world Times 6.\n",
      "ello world Times 7.\n",
      "ello world Times 8.\n",
      "ello world Times 9.\n",
      "ello world Times 10.\n",
      "After Loop\n"
     ]
    }
   ],
   "source": [
    "c = 1\n",
    "print(\"Before Loop\")\n",
    "while c <= 10 : \n",
    "    print(f\"ello world Times {c}.\")\n",
    "    c = c + 1\n",
    "print(\"After Loop\")"
   ]
  },
  {
   "cell_type": "code",
   "execution_count": 2,
   "metadata": {},
   "outputs": [
    {
     "name": "stdout",
     "output_type": "stream",
     "text": [
      "Enter a number : 34\n",
      "34*1=34\n",
      "34*2=68\n",
      "34*3=102\n",
      "34*4=136\n",
      "34*5=170\n",
      "34*6=204\n",
      "34*7=238\n",
      "34*8=272\n",
      "34*9=306\n",
      "34*10=340\n"
     ]
    }
   ],
   "source": [
    "num = int(input(\"Enter a number : \"))\n",
    "c = 1\n",
    "while c <= 10 : \n",
    "    print(f\"{num}*{c}={num*c}\")\n",
    "    c = c + 1"
   ]
  },
  {
   "cell_type": "code",
   "execution_count": 4,
   "metadata": {},
   "outputs": [
    {
     "name": "stdout",
     "output_type": "stream",
     "text": [
      "Hello world\n",
      "Hello world\n",
      "Hello world\n",
      "Hello world\n",
      "Hello world\n",
      "Can i work here ? \n"
     ]
    }
   ],
   "source": [
    "c = 2 \n",
    "while c <= 10 : \n",
    "    print(\"Hello world\")\n",
    "    c += 2\n",
    "else : \n",
    "    print(\"Can i work here ? \")"
   ]
  },
  {
   "cell_type": "code",
   "execution_count": 6,
   "metadata": {},
   "outputs": [],
   "source": [
    "from random import randint \n",
    "\n",
    "mylist = [ randint(1,50) for var in range(20)]"
   ]
  },
  {
   "cell_type": "code",
   "execution_count": 7,
   "metadata": {},
   "outputs": [
    {
     "name": "stdout",
     "output_type": "stream",
     "text": [
      "[21, 41, 12, 9, 18, 26, 41, 49, 4, 26, 24, 49, 25, 3, 16, 32, 39, 41, 28, 29]\n",
      "Enter item4\n",
      "Item found 1 times in data\n",
      "Indexes where your item is -->  8\n"
     ]
    }
   ],
   "source": [
    "print(mylist)\n",
    "item = int(input(\"Enter item\"))\n",
    "counting = 0\n",
    "found_index = []\n",
    "index = 0\n",
    "while index < len(mylist) :  \n",
    "    if mylist[index] == item : \n",
    "        counting += 1\n",
    "        found_index.append(index)\n",
    "    index += 1\n",
    "else : \n",
    "    print(f\"Item found {counting} times in data\")\n",
    "    if found_index :\n",
    "        print(f\"Indexes where your item is --> \",*found_index)\n",
    "        "
   ]
  },
  {
   "cell_type": "code",
   "execution_count": 8,
   "metadata": {},
   "outputs": [
    {
     "name": "stdout",
     "output_type": "stream",
     "text": [
      "java\n",
      "python\n",
      "c\n",
      "c++\n"
     ]
    }
   ],
   "source": [
    "l = [ 'java','python','c','c++']\n",
    "for item in l : \n",
    "    print(item)"
   ]
  },
  {
   "cell_type": "code",
   "execution_count": 9,
   "metadata": {},
   "outputs": [],
   "source": [
    "d = { 'name':'python','version':3.7,'father':'Guido Van Rossum',\n",
    "    'release':1994,}"
   ]
  },
  {
   "cell_type": "code",
   "execution_count": 10,
   "metadata": {},
   "outputs": [
    {
     "name": "stdout",
     "output_type": "stream",
     "text": [
      "name\n",
      "version\n",
      "father\n",
      "release\n"
     ]
    }
   ],
   "source": [
    "for somevalue in d : \n",
    "    print(somevalue)"
   ]
  },
  {
   "cell_type": "code",
   "execution_count": 11,
   "metadata": {},
   "outputs": [
    {
     "name": "stdout",
     "output_type": "stream",
     "text": [
      "python\n",
      "3.7\n",
      "Guido Van Rossum\n",
      "1994\n"
     ]
    }
   ],
   "source": [
    "for somevalue in d.values() : \n",
    "    print(somevalue)"
   ]
  },
  {
   "cell_type": "code",
   "execution_count": 12,
   "metadata": {},
   "outputs": [
    {
     "name": "stdout",
     "output_type": "stream",
     "text": [
      "name\t=\tpython\n",
      "version\t=\t3.7\n",
      "father\t=\tGuido Van Rossum\n",
      "release\t=\t1994\n"
     ]
    }
   ],
   "source": [
    "for somevalue in d.items() : \n",
    "    print(*somevalue,sep='\\t=\\t')"
   ]
  },
  {
   "cell_type": "code",
   "execution_count": null,
   "metadata": {},
   "outputs": [],
   "source": []
  }
 ],
 "metadata": {
  "kernelspec": {
   "display_name": "Python 3",
   "language": "python",
   "name": "python3"
  },
  "language_info": {
   "codemirror_mode": {
    "name": "ipython",
    "version": 3
   },
   "file_extension": ".py",
   "mimetype": "text/x-python",
   "name": "python",
   "nbconvert_exporter": "python",
   "pygments_lexer": "ipython3",
   "version": "3.7.3"
  }
 },
 "nbformat": 4,
 "nbformat_minor": 4
}
