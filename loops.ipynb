{
 "cells": [
  {
   "cell_type": "code",
   "execution_count": 1,
   "metadata": {},
   "outputs": [
    {
     "name": "stdout",
     "output_type": "stream",
     "text": [
      "Before Loop\n",
      "ello world Times 1.\n",
      "ello world Times 2.\n",
      "ello world Times 3.\n",
      "ello world Times 4.\n",
      "ello world Times 5.\n",
      "ello world Times 6.\n",
      "ello world Times 7.\n",
      "ello world Times 8.\n",
      "ello world Times 9.\n",
      "ello world Times 10.\n",
      "After Loop\n"
     ]
    }
   ],
   "source": [
    "c = 1\n",
    "print(\"Before Loop\")\n",
    "while c <= 10 : \n",
    "    print(f\"ello world Times {c}.\")\n",
    "    c = c + 1\n",
    "print(\"After Loop\")"
   ]
  },
  {
   "cell_type": "code",
   "execution_count": 2,
   "metadata": {},
   "outputs": [
    {
     "name": "stdout",
     "output_type": "stream",
     "text": [
      "Enter a number : 34\n",
      "34*1=34\n",
      "34*2=68\n",
      "34*3=102\n",
      "34*4=136\n",
      "34*5=170\n",
      "34*6=204\n",
      "34*7=238\n",
      "34*8=272\n",
      "34*9=306\n",
      "34*10=340\n"
     ]
    }
   ],
   "source": [
    "num = int(input(\"Enter a number : \"))\n",
    "c = 1\n",
    "while c <= 10 : \n",
    "    print(f\"{num}*{c}={num*c}\")\n",
    "    c = c + 1"
   ]
  },
  {
   "cell_type": "code",
   "execution_count": 4,
   "metadata": {},
   "outputs": [
    {
     "name": "stdout",
     "output_type": "stream",
     "text": [
      "Hello world\n",
      "Hello world\n",
      "Hello world\n",
      "Hello world\n",
      "Hello world\n",
      "Can i work here ? \n"
     ]
    }
   ],
   "source": [
    "c = 2 \n",
    "while c <= 10 : \n",
    "    print(\"Hello world\")\n",
    "    c += 2\n",
    "else : \n",
    "    print(\"Can i work here ? \")"
   ]
  },
  {
   "cell_type": "code",
   "execution_count": 6,
   "metadata": {},
   "outputs": [],
   "source": [
    "from random import randint \n",
    "\n",
    "mylist = [ randint(1,50) for var in range(20)]"
   ]
  },
  {
   "cell_type": "code",
   "execution_count": 7,
   "metadata": {},
   "outputs": [
    {
     "name": "stdout",
     "output_type": "stream",
     "text": [
      "[21, 41, 12, 9, 18, 26, 41, 49, 4, 26, 24, 49, 25, 3, 16, 32, 39, 41, 28, 29]\n",
      "Enter item4\n",
      "Item found 1 times in data\n",
      "Indexes where your item is -->  8\n"
     ]
    }
   ],
   "source": [
    "print(mylist)\n",
    "item = int(input(\"Enter item\"))\n",
    "counting = 0\n",
    "found_index = []\n",
    "index = 0\n",
    "while index < len(mylist) :  \n",
    "    if mylist[index] == item : \n",
    "        counting += 1\n",
    "        found_index.append(index)\n",
    "    index += 1\n",
    "else : \n",
    "    print(f\"Item found {counting} times in data\")\n",
    "    if found_index :\n",
    "        print(f\"Indexes where your item is --> \",*found_index)\n",
    "        "
   ]
  },
  {
   "cell_type": "code",
   "execution_count": 8,
   "metadata": {},
   "outputs": [
    {
     "name": "stdout",
     "output_type": "stream",
     "text": [
      "java\n",
      "python\n",
      "c\n",
      "c++\n"
     ]
    }
   ],
   "source": [
    "l = [ 'java','python','c','c++']\n",
    "for item in l : \n",
    "    print(item)"
   ]
  },
  {
   "cell_type": "code",
   "execution_count": 9,
   "metadata": {},
   "outputs": [],
   "source": [
    "d = { 'name':'python','version':3.7,'father':'Guido Van Rossum',\n",
    "    'release':1994,}"
   ]
  },
  {
   "cell_type": "code",
   "execution_count": 10,
   "metadata": {},
   "outputs": [
    {
     "name": "stdout",
     "output_type": "stream",
     "text": [
      "name\n",
      "version\n",
      "father\n",
      "release\n"
     ]
    }
   ],
   "source": [
    "for somevalue in d : \n",
    "    print(somevalue)"
   ]
  },
  {
   "cell_type": "code",
   "execution_count": 11,
   "metadata": {},
   "outputs": [
    {
     "name": "stdout",
     "output_type": "stream",
     "text": [
      "python\n",
      "3.7\n",
      "Guido Van Rossum\n",
      "1994\n"
     ]
    }
   ],
   "source": [
    "for somevalue in d.values() : \n",
    "    print(somevalue)"
   ]
  },
  {
   "cell_type": "code",
   "execution_count": 12,
   "metadata": {},
   "outputs": [
    {
     "name": "stdout",
     "output_type": "stream",
     "text": [
      "name\t=\tpython\n",
      "version\t=\t3.7\n",
      "father\t=\tGuido Van Rossum\n",
      "release\t=\t1994\n"
     ]
    }
   ],
   "source": [
    "for somevalue in d.items() : \n",
    "    print(*somevalue,sep='\\t=\\t')"
   ]
  },
  {
   "cell_type": "code",
   "execution_count": 13,
   "metadata": {},
   "outputs": [
    {
     "name": "stdout",
     "output_type": "stream",
     "text": [
      "hi\thello\tbye\n",
      "\n",
      "1\t2\t3\n",
      "\n",
      "4\t5\t6\n",
      "\n"
     ]
    }
   ],
   "source": [
    "for x,y,z in [ ('hi','hello','bye'),(1,2,3),(4,5,6)] : \n",
    "    print(x,y,z,sep='\\t',end='\\n\\n')"
   ]
  },
  {
   "cell_type": "code",
   "execution_count": 14,
   "metadata": {},
   "outputs": [
    {
     "name": "stdout",
     "output_type": "stream",
     "text": [
      "p, y\n",
      "\n",
      "h, i\n",
      "\n",
      "1, 2\n",
      "\n",
      "1, 2\n",
      "\n"
     ]
    }
   ],
   "source": [
    "for one,two in ['py','hi',(1,2),{'1':2,2:'3'}] : \n",
    "    print(one,two,sep=', ',end='\\n\\n')"
   ]
  },
  {
   "cell_type": "code",
   "execution_count": 15,
   "metadata": {},
   "outputs": [
    {
     "name": "stdout",
     "output_type": "stream",
     "text": [
      "(1, 5) (2, 4) (3, 3) (4, 2) (5, 1) (6, 0)\n"
     ]
    }
   ],
   "source": [
    "l1 = [ 1,2,3,4,5,6]\n",
    "l2 = [ 5,4,3,2,1,0]\n",
    "\n",
    "print(*zip(l1,l2))"
   ]
  },
  {
   "cell_type": "code",
   "execution_count": 16,
   "metadata": {},
   "outputs": [],
   "source": [
    "from math import sqrt\n",
    "r = []\n",
    "for var1,var2 in zip(l1,l2) : \n",
    "    r.append(round(sqrt((var1**2+var2**2)),2))"
   ]
  },
  {
   "cell_type": "code",
   "execution_count": 17,
   "metadata": {},
   "outputs": [
    {
     "name": "stdout",
     "output_type": "stream",
     "text": [
      "[1, 2, 3, 4, 5, 6]\n",
      "[5, 4, 3, 2, 1, 0]\n",
      "[5.1, 4.47, 4.24, 4.47, 5.1, 6.0]\n"
     ]
    }
   ],
   "source": [
    "print(l1)\n",
    "print(l2)\n",
    "print(r)"
   ]
  },
  {
   "cell_type": "code",
   "execution_count": 18,
   "metadata": {},
   "outputs": [
    {
     "data": {
      "text/plain": [
       "8697440"
      ]
     },
     "execution_count": 18,
     "metadata": {},
     "output_type": "execute_result"
    }
   ],
   "source": [
    "l = [ var**5 for var in range(1000000)]\n",
    "\n",
    "l.__sizeof__()"
   ]
  },
  {
   "cell_type": "code",
   "execution_count": null,
   "metadata": {},
   "outputs": [],
   "source": []
  }
 ],
 "metadata": {
  "kernelspec": {
   "display_name": "Python 3",
   "language": "python",
   "name": "python3"
  },
  "language_info": {
   "codemirror_mode": {
    "name": "ipython",
    "version": 3
   },
   "file_extension": ".py",
   "mimetype": "text/x-python",
   "name": "python",
   "nbconvert_exporter": "python",
   "pygments_lexer": "ipython3",
   "version": "3.7.3"
  }
 },
 "nbformat": 4,
 "nbformat_minor": 4
}
