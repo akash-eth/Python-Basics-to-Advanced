{
 "cells": [
  {
   "cell_type": "code",
   "execution_count": 1,
   "metadata": {},
   "outputs": [],
   "source": [
    "def final(pos,default=0,*args,**kwargs):\n",
    "    print(\"Positional Argument --> \",pos)\n",
    "    print(\"Default Argument --> \",default)\n",
    "    print(\"Here is your var length args \")\n",
    "    for c,element in enumerate(args) : \n",
    "        print(f\"Var Length Argument Number[{c+1}] = {element}\")\n",
    "    print(\"Here is your var length key-value args \")\n",
    "    c = 1\n",
    "    for key,value in kwargs.items():\n",
    "        print(f\"Item Number[{c}] --> {key} = {value}\")\n",
    "        c = c + 1"
   ]
  },
  {
   "cell_type": "code",
   "execution_count": 2,
   "metadata": {},
   "outputs": [
    {
     "name": "stdout",
     "output_type": "stream",
     "text": [
      "Positional Argument -->  1\n",
      "Default Argument -->  0\n",
      "Here is your var length args \n",
      "Here is your var length key-value args \n"
     ]
    }
   ],
   "source": [
    "final(1)"
   ]
  },
  {
   "cell_type": "code",
   "execution_count": 3,
   "metadata": {},
   "outputs": [
    {
     "name": "stdout",
     "output_type": "stream",
     "text": [
      "Positional Argument -->  1\n",
      "Default Argument -->  2\n",
      "Here is your var length args \n",
      "Var Length Argument Number[1] = 3\n",
      "Var Length Argument Number[2] = 4\n",
      "Var Length Argument Number[3] = 5\n",
      "Here is your var length key-value args \n"
     ]
    }
   ],
   "source": [
    "final(1,2,3,4,5)"
   ]
  },
  {
   "cell_type": "code",
   "execution_count": 4,
   "metadata": {},
   "outputs": [
    {
     "name": "stdout",
     "output_type": "stream",
     "text": [
      "Positional Argument -->  print\n",
      "Default Argument -->  works\n",
      "Here is your var length args \n",
      "Var Length Argument Number[1] = like\n",
      "Var Length Argument Number[2] = this\n",
      "Var Length Argument Number[3] = if\n",
      "Var Length Argument Number[4] = you\n",
      "Var Length Argument Number[5] = notice\n",
      "Here is your var length key-value args \n",
      "Item Number[1] --> sep = \" \"\n",
      "Item Number[2] --> end = \\n\n"
     ]
    }
   ],
   "source": [
    "final(\"print\",\"works\",\"like\",\"this\",\"if\",\"you\",\"notice\",sep='\" \"',end='\\\\n')"
   ]
  },
  {
   "cell_type": "code",
   "execution_count": 10,
   "metadata": {},
   "outputs": [],
   "source": [
    "def extra_decorator(org_name):\n",
    "    def decorator(old):\n",
    "        def worker(*args,**kwargs):\n",
    "            print(\"\\nWelcome to \",org_name)\n",
    "            print(\"#\"*50)\n",
    "            print(\"#\"*50)\n",
    "            print()\n",
    "            old(*args,**kwargs)\n",
    "            print()\n",
    "            print(\"#\"*50)\n",
    "            print(\"#\"*50)\n",
    "        return worker\n",
    "    return decorator\n",
    "@extra_decorator(\"universe\\n\")\n",
    "@extra_decorator(\"Github\")\n",
    "def hello():\n",
    "    print(\"Hello world Welcome to Decorator\")\n",
    "@extra_decorator(\"Github\")\n",
    "def add(x,y):\n",
    "    print(f\"x = {x}\\ny={y}\\n{x}+{y}={x+y}\")"
   ]
  },
  {
   "cell_type": "code",
   "execution_count": 11,
   "metadata": {},
   "outputs": [
    {
     "name": "stdout",
     "output_type": "stream",
     "text": [
      "\n",
      "Welcome to  universe\n",
      "\n",
      "##################################################\n",
      "##################################################\n",
      "\n",
      "\n",
      "Welcome to  Github\n",
      "##################################################\n",
      "##################################################\n",
      "\n",
      "Hello world Welcome to Decorator\n",
      "\n",
      "##################################################\n",
      "##################################################\n",
      "\n",
      "##################################################\n",
      "##################################################\n"
     ]
    }
   ],
   "source": [
    "hello()"
   ]
  },
  {
   "cell_type": "code",
   "execution_count": null,
   "metadata": {},
   "outputs": [],
   "source": []
  }
 ],
 "metadata": {
  "kernelspec": {
   "display_name": "Python 3",
   "language": "python",
   "name": "python3"
  },
  "language_info": {
   "codemirror_mode": {
    "name": "ipython",
    "version": 3
   },
   "file_extension": ".py",
   "mimetype": "text/x-python",
   "name": "python",
   "nbconvert_exporter": "python",
   "pygments_lexer": "ipython3",
   "version": "3.7.3"
  }
 },
 "nbformat": 4,
 "nbformat_minor": 4
}
