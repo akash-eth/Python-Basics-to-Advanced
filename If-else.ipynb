{
 "cells": [
  {
   "cell_type": "code",
   "execution_count": 1,
   "metadata": {},
   "outputs": [
    {
     "name": "stdout",
     "output_type": "stream",
     "text": [
      "34\n",
      "even\n"
     ]
    }
   ],
   "source": [
    "num = int(input())\n",
    "if num%2==0:\n",
    "    print('even')\n",
    "else:\n",
    "    print('odd')"
   ]
  },
  {
   "cell_type": "code",
   "execution_count": 2,
   "metadata": {},
   "outputs": [
    {
     "name": "stdout",
     "output_type": "stream",
     "text": [
      "437\n",
      "not a prime number\n"
     ]
    }
   ],
   "source": [
    "num = int(input())\n",
    "if num/num==0 and num/1==0:\n",
    "    print('prime number')\n",
    "else:\n",
    "    print('not a prime number')"
   ]
  },
  {
   "cell_type": "code",
   "execution_count": 3,
   "metadata": {},
   "outputs": [
    {
     "name": "stdout",
     "output_type": "stream",
     "text": [
      "enter length23\n",
      "enter breadth21\n",
      "88\n"
     ]
    }
   ],
   "source": [
    "length = int(input(\"enter length\"))\n",
    "breadth = int(input(\"enter breadth\"))\n",
    "area = 2*(length+breadth)\n",
    "if length == breadth:\n",
    "    print(\"cannot perform opearation as it is an square\")\n",
    "else:\n",
    "    print(area)"
   ]
  },
  {
   "cell_type": "code",
   "execution_count": 4,
   "metadata": {},
   "outputs": [
    {
     "name": "stdout",
     "output_type": "stream",
     "text": [
      "21\n",
      "34\n",
      "34 is greater\n"
     ]
    }
   ],
   "source": [
    "one = int(input(\"\"))\n",
    "two = int(input(''))\n",
    "if one>two:\n",
    "    print(f\"{one} is greater\")\n",
    "else:\n",
    "    print(f\"{two} is greater\")"
   ]
  },
  {
   "cell_type": "code",
   "execution_count": 6,
   "metadata": {},
   "outputs": [
    {
     "name": "stdout",
     "output_type": "stream",
     "text": [
      "enter amount1200\n",
      "your discount is 120.0\n"
     ]
    }
   ],
   "source": [
    "amount = int(input(\"enter amount\"))\n",
    "if amount>1000:\n",
    "    print(f\"your discount is {0.1*amount}\")\n",
    "else:\n",
    "    print(\"no discount for the above purchase\")"
   ]
  },
  {
   "cell_type": "code",
   "execution_count": 9,
   "metadata": {},
   "outputs": [
    {
     "name": "stdout",
     "output_type": "stream",
     "text": [
      "34000\n",
      "12\n",
      "your salary after adding bonus is 35700.0\n"
     ]
    }
   ],
   "source": [
    "salary = int(input(\"\"))\n",
    "year = int(input(\"\"))\n",
    "if year>5:\n",
    "    print(f\"your salary after adding bonus is {1.05*salary}\")\n",
    "else:\n",
    "    print(\"no bonus for inexperience\")"
   ]
  },
  {
   "cell_type": "code",
   "execution_count": 12,
   "metadata": {},
   "outputs": [
    {
     "name": "stdout",
     "output_type": "stream",
     "text": [
      "enter marks45\n",
      "d grade\n"
     ]
    }
   ],
   "source": [
    "marks = int(input(\"enter marks\"))\n",
    "if marks<25:\n",
    "    print('f grade')\n",
    "elif 25<=marks<45:\n",
    "    print('e grade')\n",
    "elif 45<=marks<50:\n",
    "    print('d grade')\n",
    "elif 50<=marks<60:\n",
    "    print('c grade')\n",
    "elif 60<=marks<=80:\n",
    "    print('b grade')\n",
    "elif marks>80:\n",
    "    print('a grade')\n",
    "else:\n",
    "    print(\"please first attempt exams you fool\")"
   ]
  },
  {
   "cell_type": "code",
   "execution_count": 13,
   "metadata": {},
   "outputs": [
    {
     "name": "stdout",
     "output_type": "stream",
     "text": [
      "23\n",
      "45\n",
      "21\n",
      "user3 is youngest and user2 is oldest\n"
     ]
    }
   ],
   "source": [
    "user1 = int(input())\n",
    "user2 = int(input())\n",
    "user3 = int(input())\n",
    "if user1<user2<user3:\n",
    "    print(\"user1 is youngest and user3 is oldest\")\n",
    "elif user2<user1<user3:\n",
    "    print(\"user2 is youngest and user3 is oldest\")\n",
    "elif user3<user1<user2:\n",
    "    print(\"user3 is youngest and user2 is oldest\")"
   ]
  },
  {
   "cell_type": "code",
   "execution_count": 14,
   "metadata": {},
   "outputs": [
    {
     "name": "stdout",
     "output_type": "stream",
     "text": [
      "-34\n",
      "34\n"
     ]
    }
   ],
   "source": [
    "num = int(input(\"\"))\n",
    "if num<0:\n",
    "    print(num*-1)\n",
    "else:\n",
    "    print(num)"
   ]
  },
  {
   "cell_type": "code",
   "execution_count": null,
   "metadata": {},
   "outputs": [],
   "source": []
  }
 ],
 "metadata": {
  "kernelspec": {
   "display_name": "Python 3",
   "language": "python",
   "name": "python3"
  },
  "language_info": {
   "codemirror_mode": {
    "name": "ipython",
    "version": 3
   },
   "file_extension": ".py",
   "mimetype": "text/x-python",
   "name": "python",
   "nbconvert_exporter": "python",
   "pygments_lexer": "ipython3",
   "version": "3.7.3"
  }
 },
 "nbformat": 4,
 "nbformat_minor": 4
}
