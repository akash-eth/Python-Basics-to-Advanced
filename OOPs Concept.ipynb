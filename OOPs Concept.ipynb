{
 "cells": [
  {
   "cell_type": "code",
   "execution_count": 1,
   "metadata": {},
   "outputs": [
    {
     "name": "stdout",
     "output_type": "stream",
     "text": [
      "i am parent\n",
      "i am child\n"
     ]
    }
   ],
   "source": [
    "class P :  #inheritance\n",
    "    def show():\n",
    "        print(\"i am parent\")\n",
    "class C(P) : \n",
    "    def hi():\n",
    "        print(\"i am child\")\n",
    "\n",
    "C.show()\n",
    "C.hi()"
   ]
  },
  {
   "cell_type": "code",
   "execution_count": 2,
   "metadata": {},
   "outputs": [
    {
     "name": "stdout",
     "output_type": "stream",
     "text": [
      "Welcome github to Parent\n"
     ]
    }
   ],
   "source": [
    "class P :  \n",
    "    def show(name):\n",
    "        print(f\"Welcome {name} to Parent\")\n",
    "class C(P) : #inheritance\n",
    "    def show(name,age=None): #over-riding\n",
    "        P.show(name)\n",
    "        #print('hi')\n",
    "        if age : \n",
    "            print(f\"your age is {age}\")\n",
    "C.show('github')"
   ]
  },
  {
   "cell_type": "code",
   "execution_count": null,
   "metadata": {},
   "outputs": [],
   "source": []
  }
 ],
 "metadata": {
  "kernelspec": {
   "display_name": "Python 3",
   "language": "python",
   "name": "python3"
  },
  "language_info": {
   "codemirror_mode": {
    "name": "ipython",
    "version": 3
   },
   "file_extension": ".py",
   "mimetype": "text/x-python",
   "name": "python",
   "nbconvert_exporter": "python",
   "pygments_lexer": "ipython3",
   "version": "3.7.3"
  }
 },
 "nbformat": 4,
 "nbformat_minor": 4
}
