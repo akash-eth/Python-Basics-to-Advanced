{
 "cells": [
  {
   "cell_type": "code",
   "execution_count": 1,
   "metadata": {},
   "outputs": [
    {
     "name": "stdout",
     "output_type": "stream",
     "text": [
      "i am parent\n",
      "i am child\n"
     ]
    }
   ],
   "source": [
    "class P :  #inheritance\n",
    "    def show():\n",
    "        print(\"i am parent\")\n",
    "class C(P) : \n",
    "    def hi():\n",
    "        print(\"i am child\")\n",
    "\n",
    "C.show()\n",
    "C.hi()"
   ]
  },
  {
   "cell_type": "code",
   "execution_count": 2,
   "metadata": {},
   "outputs": [
    {
     "name": "stdout",
     "output_type": "stream",
     "text": [
      "Welcome github to Parent\n"
     ]
    }
   ],
   "source": [
    "class P :  \n",
    "    def show(name):\n",
    "        print(f\"Welcome {name} to Parent\")\n",
    "class C(P) : #inheritance\n",
    "    def show(name,age=None): #over-riding\n",
    "        P.show(name)\n",
    "        #print('hi')\n",
    "        if age : \n",
    "            print(f\"your age is {age}\")\n",
    "C.show('github')"
   ]
  },
  {
   "cell_type": "code",
   "execution_count": 3,
   "metadata": {},
   "outputs": [],
   "source": [
    "class Person : \n",
    "    \"\"\"Hello I am Person Class\"\"\"\n",
    "    def __init__(self,name,color,country):\n",
    "        self.name = name\n",
    "        self.color = color\n",
    "        self.country = country\n",
    "    def learn(self,item):\n",
    "        self.item = item\n",
    "    def die(self):\n",
    "        pass\n",
    "    def run(self):\n",
    "        pass\n",
    "    def think(self):\n",
    "        pass\n",
    "\n",
    "p1 = Person(\"X\",\"Dark\",\"India\")\n",
    "p2 = Person(\"Y\",\"Brown\",\"Pakishtan\")\n",
    "p3 = Person(\"Z\",\"Fare\",\"US\")"
   ]
  },
  {
   "cell_type": "code",
   "execution_count": 4,
   "metadata": {},
   "outputs": [
    {
     "name": "stdout",
     "output_type": "stream",
     "text": [
      "X\n",
      "Y\n",
      "Z\n"
     ]
    }
   ],
   "source": [
    "print(p1.name)\n",
    "print(p2.name)\n",
    "print(p3.name)"
   ]
  },
  {
   "cell_type": "code",
   "execution_count": 5,
   "metadata": {},
   "outputs": [
    {
     "name": "stdout",
     "output_type": "stream",
     "text": [
      "1567414467160\n",
      "1567414467216\n",
      "1567414467272\n"
     ]
    }
   ],
   "source": [
    "print(id(p1))\n",
    "print(id(p2))\n",
    "print(id(p3))"
   ]
  },
  {
   "cell_type": "code",
   "execution_count": 6,
   "metadata": {},
   "outputs": [
    {
     "name": "stdout",
     "output_type": "stream",
     "text": [
      "{'name': 'X', 'color': 'Dark', 'country': 'India'}\n",
      "{'name': 'Y', 'color': 'Brown', 'country': 'Pakishtan'}\n",
      "{'name': 'Z', 'color': 'Fare', 'country': 'US'}\n"
     ]
    }
   ],
   "source": [
    "print(p1.__dict__)\n",
    "print(p2.__dict__)\n",
    "print(p3.__dict__)"
   ]
  },
  {
   "cell_type": "code",
   "execution_count": null,
   "metadata": {},
   "outputs": [],
   "source": []
  }
 ],
 "metadata": {
  "kernelspec": {
   "display_name": "Python 3",
   "language": "python",
   "name": "python3"
  },
  "language_info": {
   "codemirror_mode": {
    "name": "ipython",
    "version": 3
   },
   "file_extension": ".py",
   "mimetype": "text/x-python",
   "name": "python",
   "nbconvert_exporter": "python",
   "pygments_lexer": "ipython3",
   "version": "3.7.3"
  }
 },
 "nbformat": 4,
 "nbformat_minor": 4
}
