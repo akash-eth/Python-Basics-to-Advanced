{
 "cells": [
  {
   "cell_type": "code",
   "execution_count": 9,
   "metadata": {},
   "outputs": [
    {
     "name": "stdout",
     "output_type": "stream",
     "text": [
      "Enter integer x : 24\n",
      "Enter integer y : 42\n",
      "result is  0.5714285714285714\n"
     ]
    }
   ],
   "source": [
    "try : \n",
    "    x = int(input(\"Enter integer x : \"))\n",
    "    y = int(input(\"Enter integer y : \"))\n",
    "    r = x / y \n",
    "    print(\"result is \" , r)\n",
    "except ValueError as msg : \n",
    "    print(f\"!!Error!!{msg}\")\n",
    "    print(\"You should use integer values next time \")\n",
    "except ZeroDivisionError as err : \n",
    "    print(\"Are you from Out of This Planet  ?\")\n",
    "    print(\"Who divides a number with 0, man you need serious attentaion\")"
   ]
  },
  {
   "cell_type": "code",
   "execution_count": 10,
   "metadata": {},
   "outputs": [
    {
     "name": "stdout",
     "output_type": "stream",
     "text": [
      "Enter integer x : cisdcns\n",
      "!!Error!!invalid literal for int() with base 10: 'cisdcns'\n"
     ]
    }
   ],
   "source": [
    "try : \n",
    "    x = int(input(\"Enter integer x : \"))\n",
    "    y = int(input(\"Enter integer y : \"))\n",
    "    r = x / y \n",
    "    print(\"result is \" , r)\n",
    "except Exception as msg : \n",
    "    print(f\"!!Error!!{msg}\")"
   ]
  },
  {
   "cell_type": "code",
   "execution_count": 12,
   "metadata": {},
   "outputs": [
    {
     "name": "stdout",
     "output_type": "stream",
     "text": [
      "Enter integer x : 34\n",
      "Enter integer y : re\n",
      "!!Error!!invalid literal for int() with base 10: 're'\n",
      "You should use integer values next time \n",
      "Enter integer x : e3\n",
      "!!Error!!invalid literal for int() with base 10: 'e3'\n",
      "You should use integer values next time \n",
      "Enter integer x : 33\n",
      "Enter integer y : 4\n",
      "result is  8.25\n"
     ]
    }
   ],
   "source": [
    "while True : \n",
    "    try : \n",
    "        x = int(input(\"Enter integer x : \"))\n",
    "        y = int(input(\"Enter integer y : \"))\n",
    "        r = x / y \n",
    "        print(\"result is \" , r)\n",
    "        break\n",
    "    except ValueError as msg : \n",
    "        print(f\"!!Error!!{msg}\")\n",
    "        print(\"You should use integer values next time \")\n",
    "    except ZeroDivisionError as err : \n",
    "        print(\"Are you from Out of This Planet  ?\")\n",
    "        print(\"Who divides a number with 0, man you need serious attentaion\")\n",
    "    except Exception as msg : \n",
    "        print(f\"!!Error!!{msg}\")"
   ]
  },
  {
   "cell_type": "code",
   "execution_count": 13,
   "metadata": {},
   "outputs": [
    {
     "name": "stdout",
     "output_type": "stream",
     "text": [
      "Enter a number : -5\n",
      "!!Error!!I asked for Integer Number \n",
      "Error!!  Number should be Positive\n"
     ]
    }
   ],
   "source": [
    "#i need a positive number\n",
    "\n",
    "try: \n",
    "    num = int(input(\"Enter a number : \"))\n",
    "    if num < 0 : \n",
    "        raise ValueError(\"Number should be Positive\") #custom exception\n",
    "except ValueError as e : \n",
    "    print(\"!!Error!!I asked for Integer Number \")\n",
    "    print(\"Error!! \",e)"
   ]
  },
  {
   "cell_type": "code",
   "execution_count": null,
   "metadata": {},
   "outputs": [],
   "source": []
  }
 ],
 "metadata": {
  "kernelspec": {
   "display_name": "Python 3",
   "language": "python",
   "name": "python3"
  },
  "language_info": {
   "codemirror_mode": {
    "name": "ipython",
    "version": 3
   },
   "file_extension": ".py",
   "mimetype": "text/x-python",
   "name": "python",
   "nbconvert_exporter": "python",
   "pygments_lexer": "ipython3",
   "version": "3.7.3"
  }
 },
 "nbformat": 4,
 "nbformat_minor": 4
}
