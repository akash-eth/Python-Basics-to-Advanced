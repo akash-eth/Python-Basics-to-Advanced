{
 "cells": [
  {
   "cell_type": "code",
   "execution_count": 9,
   "metadata": {},
   "outputs": [
    {
     "name": "stdout",
     "output_type": "stream",
     "text": [
      "Enter integer x : 24\n",
      "Enter integer y : 42\n",
      "result is  0.5714285714285714\n"
     ]
    }
   ],
   "source": [
    "try : \n",
    "    x = int(input(\"Enter integer x : \"))\n",
    "    y = int(input(\"Enter integer y : \"))\n",
    "    r = x / y \n",
    "    print(\"result is \" , r)\n",
    "except ValueError as msg : \n",
    "    print(f\"!!Error!!{msg}\")\n",
    "    print(\"You should use integer values next time \")\n",
    "except ZeroDivisionError as err : \n",
    "    print(\"Are you from Out of This Planet  ?\")\n",
    "    print(\"Who divides a number with 0, man you need serious attentaion\")"
   ]
  },
  {
   "cell_type": "code",
   "execution_count": null,
   "metadata": {},
   "outputs": [],
   "source": []
  }
 ],
 "metadata": {
  "kernelspec": {
   "display_name": "Python 3",
   "language": "python",
   "name": "python3"
  },
  "language_info": {
   "codemirror_mode": {
    "name": "ipython",
    "version": 3
   },
   "file_extension": ".py",
   "mimetype": "text/x-python",
   "name": "python",
   "nbconvert_exporter": "python",
   "pygments_lexer": "ipython3",
   "version": "3.7.3"
  }
 },
 "nbformat": 4,
 "nbformat_minor": 4
}
