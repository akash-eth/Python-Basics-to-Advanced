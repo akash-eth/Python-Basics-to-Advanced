{
 "cells": [
  {
   "cell_type": "code",
   "execution_count": 1,
   "metadata": {},
   "outputs": [
    {
     "name": "stdout",
     "output_type": "stream",
     "text": [
      "Enter a number : 23\n",
      "Given Number 23 is Odd Number \n"
     ]
    }
   ],
   "source": [
    "#Basic even odd check program:\n",
    "num = int(input(\"Enter a number : \"))\n",
    "if num % 2 : \n",
    "    print(f\"Given Number {num} is Odd Number \")\n",
    "else : \n",
    "    print(f\"Given Number {num} is Even Number \")"
   ]
  },
  {
   "cell_type": "code",
   "execution_count": 2,
   "metadata": {},
   "outputs": [
    {
     "name": "stdout",
     "output_type": "stream",
     "text": [
      "Enter a year : 1996\n",
      "Given year 1996 is a leap year\n"
     ]
    }
   ],
   "source": [
    "#finding an leap year:\n",
    "year = int(input(\"Enter a year : \"))\n",
    "if year % 4 == 0 and year % 100  or  year % 400 == 0: \n",
    "    print(f\"Given year {year} is a leap year\")\n",
    "else : \n",
    "    print(f\"Given Year {year} is not a Leap Year\")"
   ]
  },
  {
   "cell_type": "code",
   "execution_count": 3,
   "metadata": {},
   "outputs": [],
   "source": [
    "#Use of lambda function:\n",
    "prime = lambda num,check=2 : True if check == num // 2 + 1 else False if \\\n",
    "num % check == 0 else prime(num,check+1)"
   ]
  },
  {
   "cell_type": "code",
   "execution_count": 4,
   "metadata": {},
   "outputs": [
    {
     "data": {
      "text/plain": [
       "True"
      ]
     },
     "execution_count": 4,
     "metadata": {},
     "output_type": "execute_result"
    }
   ],
   "source": [
    "prime(127)"
   ]
  },
  {
   "cell_type": "code",
   "execution_count": null,
   "metadata": {},
   "outputs": [],
   "source": []
  }
 ],
 "metadata": {
  "kernelspec": {
   "display_name": "Python 3",
   "language": "python",
   "name": "python3"
  },
  "language_info": {
   "codemirror_mode": {
    "name": "ipython",
    "version": 3
   },
   "file_extension": ".py",
   "mimetype": "text/x-python",
   "name": "python",
   "nbconvert_exporter": "python",
   "pygments_lexer": "ipython3",
   "version": "3.7.3"
  }
 },
 "nbformat": 4,
 "nbformat_minor": 4
}
